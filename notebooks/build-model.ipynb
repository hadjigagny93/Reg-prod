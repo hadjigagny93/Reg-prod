{
 "metadata": {
  "language_info": {
   "codemirror_mode": {
    "name": "ipython",
    "version": 3
   },
   "file_extension": ".py",
   "mimetype": "text/x-python",
   "name": "python",
   "nbconvert_exporter": "python",
   "pygments_lexer": "ipython3",
   "version": "3.9.0-final"
  },
  "orig_nbformat": 2,
  "kernelspec": {
   "name": "python3",
   "display_name": "Python 3.9.0 64-bit ('Reg-prod-Q0ued5c3')",
   "metadata": {
    "interpreter": {
     "hash": "90715dba943b0b577d9e3015891be3c0f591d470ac510ebad2a2b9360d0c8f09"
    }
   }
  }
 },
 "nbformat": 4,
 "nbformat_minor": 2,
 "cells": [
  {
   "cell_type": "code",
   "execution_count": 31,
   "metadata": {},
   "outputs": [],
   "source": [
    "import numpy as np\n",
    "import pandas as pd"
   ]
  },
  {
   "cell_type": "code",
   "execution_count": 32,
   "metadata": {},
   "outputs": [],
   "source": [
    "# load data \n",
    "train = pd.read_csv('../data/train.csv', index_col=0)"
   ]
  },
  {
   "cell_type": "code",
   "execution_count": 33,
   "metadata": {},
   "outputs": [
    {
     "output_type": "execute_result",
     "data": {
      "text/plain": [
       "         X1        X2        X3        X4         Y\n",
       "0       NaN  1.056681 -0.702197  1.197854  1.293048\n",
       "1  0.119143  0.238021 -1.155493  0.855867  2.570588\n",
       "2 -0.100293  0.192111 -1.568520       NaN  2.183867\n",
       "3  1.047916 -0.615148  0.589949 -1.428586  1.522509\n",
       "4  0.406713 -0.897186 -1.246735 -0.087670  1.839782"
      ],
      "text/html": "<div>\n<style scoped>\n    .dataframe tbody tr th:only-of-type {\n        vertical-align: middle;\n    }\n\n    .dataframe tbody tr th {\n        vertical-align: top;\n    }\n\n    .dataframe thead th {\n        text-align: right;\n    }\n</style>\n<table border=\"1\" class=\"dataframe\">\n  <thead>\n    <tr style=\"text-align: right;\">\n      <th></th>\n      <th>X1</th>\n      <th>X2</th>\n      <th>X3</th>\n      <th>X4</th>\n      <th>Y</th>\n    </tr>\n  </thead>\n  <tbody>\n    <tr>\n      <th>0</th>\n      <td>NaN</td>\n      <td>1.056681</td>\n      <td>-0.702197</td>\n      <td>1.197854</td>\n      <td>1.293048</td>\n    </tr>\n    <tr>\n      <th>1</th>\n      <td>0.119143</td>\n      <td>0.238021</td>\n      <td>-1.155493</td>\n      <td>0.855867</td>\n      <td>2.570588</td>\n    </tr>\n    <tr>\n      <th>2</th>\n      <td>-0.100293</td>\n      <td>0.192111</td>\n      <td>-1.568520</td>\n      <td>NaN</td>\n      <td>2.183867</td>\n    </tr>\n    <tr>\n      <th>3</th>\n      <td>1.047916</td>\n      <td>-0.615148</td>\n      <td>0.589949</td>\n      <td>-1.428586</td>\n      <td>1.522509</td>\n    </tr>\n    <tr>\n      <th>4</th>\n      <td>0.406713</td>\n      <td>-0.897186</td>\n      <td>-1.246735</td>\n      <td>-0.087670</td>\n      <td>1.839782</td>\n    </tr>\n  </tbody>\n</table>\n</div>"
     },
     "metadata": {},
     "execution_count": 33
    }
   ],
   "source": [
    "# display data \n",
    "train.head()"
   ]
  },
  {
   "cell_type": "code",
   "execution_count": 34,
   "metadata": {},
   "outputs": [],
   "source": [
    "# features, target \n",
    "features = train.drop('Y', axis=1)\n",
    "target = train.Y"
   ]
  },
  {
   "cell_type": "code",
   "execution_count": 35,
   "metadata": {},
   "outputs": [],
   "source": [
    "# process pipeline ... imputer strategy with scaling data processing\n",
    "from sklearn.pipeline import Pipeline\n",
    "from sklearn.impute import SimpleImputer\n",
    "from sklearn.preprocessing import StandardScaler\n",
    "pipeline = Pipeline([\n",
    " ('imputer', SimpleImputer(strategy=\"median\")),\n",
    " ('std_scaler', StandardScaler()),\n",
    " ])\n",
    "\n",
    "transformed_features = pipeline.fit_transform(features)"
   ]
  },
  {
   "cell_type": "code",
   "execution_count": 36,
   "metadata": {},
   "outputs": [
    {
     "output_type": "execute_result",
     "data": {
      "text/plain": [
       "array([[ 0.0708254 ,  1.61877069, -0.66105539,  1.81250389],\n",
       "       [ 0.3885856 ,  0.54784565, -1.25085433,  1.37830771],\n",
       "       [ 0.10128381,  0.48778873, -1.78825725,  0.07682661],\n",
       "       ...,\n",
       "       [ 0.0708254 ,  1.46760266,  0.88217752,  0.04431769],\n",
       "       [-0.15390253, -1.69486135,  0.0136262 ,  0.57229673],\n",
       "       [ 0.15062826,  0.21474924,  0.8717424 ,  0.87426099]])"
      ]
     },
     "metadata": {},
     "execution_count": 36
    }
   ],
   "source": [
    "transformed_features"
   ]
  },
  {
   "cell_type": "code",
   "execution_count": 37,
   "metadata": {},
   "outputs": [
    {
     "output_type": "execute_result",
     "data": {
      "text/plain": [
       "LinearRegression()"
      ]
     },
     "metadata": {},
     "execution_count": 37
    }
   ],
   "source": [
    "# train model\n",
    "from sklearn.linear_model import LinearRegression \n",
    "lin_reg = LinearRegression()\n",
    "lin_reg.fit(transformed_features, target)"
   ]
  },
  {
   "cell_type": "code",
   "execution_count": 38,
   "metadata": {},
   "outputs": [
    {
     "output_type": "execute_result",
     "data": {
      "text/plain": [
       "['../ml-package/models/model.pkl']"
      ]
     },
     "metadata": {},
     "execution_count": 38
    }
   ],
   "source": [
    "# dump model \n",
    "import joblib\n",
    "joblib.dump(lin_reg, '../ml-package/models/model.pkl')"
   ]
  },
  {
   "cell_type": "code",
   "execution_count": 39,
   "metadata": {},
   "outputs": [],
   "source": [
    "# predict on real dataset\n",
    "test = pd.read_csv('../data/test.csv', index_col=0)"
   ]
  },
  {
   "cell_type": "code",
   "execution_count": 40,
   "metadata": {},
   "outputs": [
    {
     "output_type": "execute_result",
     "data": {
      "text/plain": [
       "           X1        X2        X3        X4         Y\n",
       "800 -0.886586  0.020074  0.803749 -0.227414  1.701998\n",
       "801  0.084170 -1.280320 -2.337387 -0.305632  1.447935\n",
       "802  0.637529  0.523434  0.465955 -1.598957  4.519572\n",
       "803  0.156267  0.002001 -0.446239  0.084282  1.723813\n",
       "804  0.631777  0.792945 -1.359653 -0.089434  3.944611"
      ],
      "text/html": "<div>\n<style scoped>\n    .dataframe tbody tr th:only-of-type {\n        vertical-align: middle;\n    }\n\n    .dataframe tbody tr th {\n        vertical-align: top;\n    }\n\n    .dataframe thead th {\n        text-align: right;\n    }\n</style>\n<table border=\"1\" class=\"dataframe\">\n  <thead>\n    <tr style=\"text-align: right;\">\n      <th></th>\n      <th>X1</th>\n      <th>X2</th>\n      <th>X3</th>\n      <th>X4</th>\n      <th>Y</th>\n    </tr>\n  </thead>\n  <tbody>\n    <tr>\n      <th>800</th>\n      <td>-0.886586</td>\n      <td>0.020074</td>\n      <td>0.803749</td>\n      <td>-0.227414</td>\n      <td>1.701998</td>\n    </tr>\n    <tr>\n      <th>801</th>\n      <td>0.084170</td>\n      <td>-1.280320</td>\n      <td>-2.337387</td>\n      <td>-0.305632</td>\n      <td>1.447935</td>\n    </tr>\n    <tr>\n      <th>802</th>\n      <td>0.637529</td>\n      <td>0.523434</td>\n      <td>0.465955</td>\n      <td>-1.598957</td>\n      <td>4.519572</td>\n    </tr>\n    <tr>\n      <th>803</th>\n      <td>0.156267</td>\n      <td>0.002001</td>\n      <td>-0.446239</td>\n      <td>0.084282</td>\n      <td>1.723813</td>\n    </tr>\n    <tr>\n      <th>804</th>\n      <td>0.631777</td>\n      <td>0.792945</td>\n      <td>-1.359653</td>\n      <td>-0.089434</td>\n      <td>3.944611</td>\n    </tr>\n  </tbody>\n</table>\n</div>"
     },
     "metadata": {},
     "execution_count": 40
    }
   ],
   "source": [
    "test.head()"
   ]
  },
  {
   "cell_type": "code",
   "execution_count": 41,
   "metadata": {},
   "outputs": [],
   "source": [
    "features = test.drop('Y', axis=1)\n",
    "target = test.Y"
   ]
  },
  {
   "cell_type": "code",
   "execution_count": 42,
   "metadata": {},
   "outputs": [],
   "source": [
    "# process pipeline\n",
    "transformed_features = pipeline.fit_transform(features)"
   ]
  },
  {
   "cell_type": "code",
   "execution_count": 43,
   "metadata": {},
   "outputs": [],
   "source": [
    "# load model and make predictions\n",
    "model = joblib.load('../ml-package/models/model.pkl')\n",
    "predictions = model.predict(transformed_features)"
   ]
  },
  {
   "cell_type": "code",
   "execution_count": 44,
   "metadata": {},
   "outputs": [
    {
     "output_type": "execute_result",
     "data": {
      "text/plain": [
       "1.7936184215760074"
      ]
     },
     "metadata": {},
     "execution_count": 44
    }
   ],
   "source": [
    "from sklearn.metrics import mean_squared_error\n",
    "lin_mse = mean_squared_error(target, predictions)\n",
    "lin_rmse = np.sqrt(lin_mse)\n",
    "lin_rmse"
   ]
  },
  {
   "source": [
    "Great !! We have our model, we can push forward to next level"
   ],
   "cell_type": "markdown",
   "metadata": {}
  },
  {
   "cell_type": "code",
   "execution_count": null,
   "metadata": {},
   "outputs": [],
   "source": []
  }
 ]
}