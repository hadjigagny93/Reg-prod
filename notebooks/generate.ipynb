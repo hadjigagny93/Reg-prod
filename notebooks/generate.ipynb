{
 "metadata": {
  "language_info": {
   "codemirror_mode": {
    "name": "ipython",
    "version": 3
   },
   "file_extension": ".py",
   "mimetype": "text/x-python",
   "name": "python",
   "nbconvert_exporter": "python",
   "pygments_lexer": "ipython3",
   "version": "3.9.0-final"
  },
  "orig_nbformat": 2,
  "kernelspec": {
   "name": "python3",
   "display_name": "Python 3.9.0 64-bit ('Reg-prod-Q0ued5c3')",
   "metadata": {
    "interpreter": {
     "hash": "90715dba943b0b577d9e3015891be3c0f591d470ac510ebad2a2b9360d0c8f09"
    }
   }
  }
 },
 "nbformat": 4,
 "nbformat_minor": 2,
 "cells": [
  {
   "source": [],
   "cell_type": "markdown",
   "metadata": {}
  },
  {
   "source": [
    "# generate fake dataset for predictions\n",
    "import numpy as np \n",
    "features = np.random.normal(0, 1, (1000, 4))\n",
    "for i in range(1000):\n",
    "    for j in range(4):\n",
    "        if features[i][j] > 1.2:\n",
    "            features[i][j] = np.nan\n",
    "# create features and fill it with random values randomly\n",
    "target = 1 + np.exp(np.random.normal(0, 1, 1000))\n",
    "\n",
    "# hstack features and target \n",
    "data = np.hstack([features, target.reshape(-1, 1)])\n"
   ],
   "cell_type": "code",
   "metadata": {},
   "execution_count": 10,
   "outputs": []
  },
  {
   "cell_type": "code",
   "execution_count": 11,
   "metadata": {},
   "outputs": [
    {
     "output_type": "stream",
     "name": "stdout",
     "text": [
      "features shape: (1000, 4), target shape: (1000,), data shape: (1000, 5)\n"
     ]
    }
   ],
   "source": [
    "# get dimensions\n",
    "print(f'features shape: {features.shape}, target shape: {target.shape}, data shape: {data.shape}')"
   ]
  },
  {
   "cell_type": "code",
   "execution_count": 16,
   "metadata": {},
   "outputs": [],
   "source": [
    "# create pandas df\n",
    "import pandas as pd\n",
    "df = pd.DataFrame(data, columns=[\"X1\", \"X2\", \"X3\", \"X4\", \"Y\"])"
   ]
  },
  {
   "cell_type": "code",
   "execution_count": 19,
   "metadata": {},
   "outputs": [],
   "source": [
    "# split into train and test datasets\n",
    "train = df[0:800]\n",
    "test = df[800:]"
   ]
  },
  {
   "cell_type": "code",
   "execution_count": 21,
   "metadata": {},
   "outputs": [
    {
     "output_type": "stream",
     "name": "stdout",
     "text": [
      "train shape: (800, 5), test shape: (200, 5)\n"
     ]
    }
   ],
   "source": [
    "print(f'train shape: {train.shape}, test shape: {test.shape}')"
   ]
  },
  {
   "cell_type": "code",
   "execution_count": 23,
   "metadata": {},
   "outputs": [],
   "source": [
    "import os\n",
    "data_path = '../data'\n",
    "train.to_csv(os.path.join(data_path, 'train.csv'))\n",
    "test.to_csv(os.path.join(data_path, 'test.csv'))\n"
   ]
  },
  {
   "cell_type": "code",
   "execution_count": null,
   "metadata": {},
   "outputs": [],
   "source": []
  },
  {
   "cell_type": "code",
   "execution_count": null,
   "metadata": {},
   "outputs": [],
   "source": []
  }
 ]
}